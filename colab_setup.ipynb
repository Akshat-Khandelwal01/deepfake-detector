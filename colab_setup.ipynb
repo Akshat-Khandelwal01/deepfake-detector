{
 "cells": [
  {
   "cell_type": "markdown",
   "metadata": {},
   "source": [
    "# DeepFake Detector - Google Colab Setup\n",
    "\n",
    "This notebook helps you set up and run the DeepFake Detector application in Google Colab, which is particularly useful for large models requiring GPU acceleration."
   ]
  },
  {
   "cell_type": "markdown",
   "metadata": {},
   "source": [
    "## Step 1: Install Required Packages"
   ]
  },
  {
   "cell_type": "code",
   "execution_count": null,
   "metadata": {},
   "outputs": [],
   "source": [
    "!pip install streamlit torch torchvision opencv-python face_recognition numpy psutil pillow"
   ]
  },
  {
   "cell_type": "markdown",
   "metadata": {},
   "source": [
    "## Step 2: Clone the Repository"
   ]
  },
  {
   "cell_type": "code",
   "execution_count": null,
   "metadata": {},
   "outputs": [],
   "source": [
    "!git clone https://github.com/yourusername/deepfake-detector.git\n",
    "%cd deepfake-detector"
   ]
  },
  {
   "cell_type": "markdown",
   "metadata": {},
   "source": [
    "## Step 3: Mount Google Drive (to access your model)"
   ]
  },
  {
   "cell_type": "code",
   "execution_count": null,
   "metadata": {},
   "outputs": [],
   "source": [
    "from google.colab import drive\n",
    "drive.mount('/content/drive')"
   ]
  },
  {
   "cell_type": "markdown",
   "metadata": {},
   "source": [
    "## Step 4: Set Up Streamlit\n",
    "\n",
    "Now we need to make Streamlit accessible. We'll use localtunnel to tunnel the Streamlit port."
   ]
  },
  {
   "cell_type": "code",
   "execution_count": null,
   "metadata": {},
   "outputs": [],
   "source": [
    "!npm install -g localtunnel"
   ]
  },
  {
   "cell_type": "markdown",
   "metadata": {},
   "source": [
    "## Step 5: Run Streamlit with Tunneling\n",
    "\n",
    "This will start the Streamlit app and make it accessible via a public URL."
   ]
  },
  {
   "cell_type": "code",
   "execution_count": null,
   "metadata": {},
   "outputs": [],
   "source": [
    "!streamlit run deepfake_detector_app.py &>/content/logs.txt &\n",
    "!sleep 5 && lt --port 8501 >> /content/url.txt &\n",
    "\n",
    "# Wait for the URL to be available\n",
    "import time\n",
    "time.sleep(5)\n",
    "\n",
    "# Display the URL\n",
    "with open('/content/url.txt', 'r') as f:\n",
    "    for line in f.readlines():\n",
    "        if 'https://' in line:\n",
    "            print(f\"Streamlit app URL: {line.strip()}\")\n",
    "            break"
   ]
  },
  {
   "cell_type": "markdown",
   "metadata": {},
   "source": [
    "## Step 6: Check App Logs\n",
    "\n",
    "If you encounter issues, you can view the application logs."
   ]
  },
  {
   "cell_type": "code",
   "execution_count": null,
   "metadata": {},
   "outputs": [],
   "source": [
    "!cat /content/logs.txt"
   ]
  },
  {
   "cell_type": "markdown",
   "metadata": {},
   "source": [
    "## Important Notes\n",
    "\n",
    "1. When using the app, select \"Google Drive\" as the model loading option.\n",
    "2. Enter the path to your model file in Google Drive, e.g.: `/content/drive/MyDrive/checkpoint.pt`\n",
    "3. The connection may time out after periods of inactivity. If this happens, re-run the cell in step 5.\n",
    "4. Colab sessions have a time limit. For extended use, consider downloading the code and running it locally."
   ]
  }
 ],
 "metadata": {
  "kernelspec": {
   "display_name": "Python 3",
   "language": "python",
   "name": "python3"
  },
  "language_info": {
   "codemirror_mode": {
    "name": "ipython",
    "version": 3
   },
   "file_extension": ".py",
   "mimetype": "text/x-python",
   "name": "python",
   "nbconvert_exporter": "python",
   "pygments_lexer": "ipython3",
   "version": "3.8.10"
  }
 },
 "nbformat": 4,
 "nbformat_minor": 4
}